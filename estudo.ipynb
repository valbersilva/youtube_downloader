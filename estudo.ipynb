{
 "cells": [
  {
   "cell_type": "code",
   "execution_count": 1,
   "metadata": {},
   "outputs": [
    {
     "name": "stdout",
     "output_type": "stream",
     "text": [
      "Requirement already satisfied: pip in .\\venv\\lib\\site-packages (24.0)\n",
      "Requirement already satisfied: pytube in .\\venv\\lib\\site-packages (15.0.0)\n",
      "Note: you may need to restart the kernel to use updated packages.\n",
      "Requirement already satisfied: python-dotenv in .\\venv\\lib\\site-packages (1.0.1)\n",
      "Note: you may need to restart the kernel to use updated packages.\n",
      "Requirement already satisfied: pandas in .\\venv\\lib\\site-packages (2.2.2)\n",
      "Requirement already satisfied: numpy>=1.26.0 in .\\venv\\lib\\site-packages (from pandas) (1.26.4)\n",
      "Requirement already satisfied: python-dateutil>=2.8.2 in .\\venv\\lib\\site-packages (from pandas) (2.9.0.post0)\n",
      "Requirement already satisfied: pytz>=2020.1 in .\\venv\\lib\\site-packages (from pandas) (2024.1)\n",
      "Requirement already satisfied: tzdata>=2022.7 in .\\venv\\lib\\site-packages (from pandas) (2024.1)\n",
      "Requirement already satisfied: six>=1.5 in .\\venv\\lib\\site-packages (from python-dateutil>=2.8.2->pandas) (1.16.0)\n",
      "Note: you may need to restart the kernel to use updated packages.\n",
      "Requirement already satisfied: openpyxl in .\\venv\\lib\\site-packages (3.1.2)\n",
      "Requirement already satisfied: et-xmlfile in .\\venv\\lib\\site-packages (from openpyxl) (1.1.0)\n",
      "Note: you may need to restart the kernel to use updated packages.\n"
     ]
    }
   ],
   "source": [
    "!python -m pip install --upgrade pip\n",
    "\n",
    "%pip install pytube\n",
    "%pip install python-dotenv\n",
    "%pip install pandas\n",
    "%pip install openpyxl\n",
    "\n",
    "\n",
    "!pip freeze > .\\requirements.txt"
   ]
  },
  {
   "cell_type": "code",
   "execution_count": 2,
   "metadata": {},
   "outputs": [],
   "source": [
    "from pytube import YouTube\n",
    "import pandas as pd"
   ]
  },
  {
   "cell_type": "markdown",
   "metadata": {},
   "source": [
    "ipDatabase = str(os.getenv('ipDatabase'))"
   ]
  },
  {
   "cell_type": "code",
   "execution_count": 3,
   "metadata": {},
   "outputs": [],
   "source": [
    "# Ler o arquivo Excel\n",
    "xlsx_file_path = 'C:/workspace/youtube_downloader/data/download_list.xlsx'\n",
    "\n",
    "nome_da_tabela = \"lives\"\n",
    "\n",
    "#nome_da_tabela = \"videos\"\n",
    "\n",
    "xlsx_sheet_name = nome_da_tabela\n",
    "\n",
    "\n",
    "# Substituir NaN por None\n",
    "table_data = pd.read_excel(xlsx_file_path, xlsx_sheet_name)\n",
    "table_data = table_data.where(pd.notna(table_data), '')"
   ]
  },
  {
   "cell_type": "code",
   "execution_count": 4,
   "metadata": {},
   "outputs": [
    {
     "data": {
      "text/html": [
       "<div>\n",
       "<style scoped>\n",
       "    .dataframe tbody tr th:only-of-type {\n",
       "        vertical-align: middle;\n",
       "    }\n",
       "\n",
       "    .dataframe tbody tr th {\n",
       "        vertical-align: top;\n",
       "    }\n",
       "\n",
       "    .dataframe thead th {\n",
       "        text-align: right;\n",
       "    }\n",
       "</style>\n",
       "<table border=\"1\" class=\"dataframe\">\n",
       "  <thead>\n",
       "    <tr style=\"text-align: right;\">\n",
       "      <th></th>\n",
       "      <th>name</th>\n",
       "      <th>link</th>\n",
       "    </tr>\n",
       "  </thead>\n",
       "  <tbody>\n",
       "    <tr>\n",
       "      <th>0</th>\n",
       "      <td></td>\n",
       "      <td>https://www.youtube.com/watch?v=17opUm4_Yjk</td>\n",
       "    </tr>\n",
       "  </tbody>\n",
       "</table>\n",
       "</div>"
      ],
      "text/plain": [
       "  name                                         link\n",
       "0       https://www.youtube.com/watch?v=17opUm4_Yjk"
      ]
     },
     "execution_count": 4,
     "metadata": {},
     "output_type": "execute_result"
    }
   ],
   "source": [
    "table_data"
   ]
  },
  {
   "cell_type": "code",
   "execution_count": 10,
   "metadata": {},
   "outputs": [
    {
     "name": "stdout",
     "output_type": "stream",
     "text": [
      "https://www.youtube.com/watch?v=17opUm4_Yjk\n",
      "Download concluído com sucesso!\n"
     ]
    }
   ],
   "source": [
    "if nome_da_tabela == 'lives':\n",
    "    # Iterar sobre as linhas do DataFrame e inserir os dados no banco de dados\n",
    "    for index, row in table_data.iterrows():\n",
    "        # Cole o link do vídeo que você quer baixar aqui\n",
    "        \n",
    "        link = row['link']\n",
    "        print(link)\n",
    "        # Cria um objeto YouTube com o link fornecido\n",
    "        yt = YouTube(link)\n",
    "\n",
    "        # Escolha o formato e a resolução do vídeo que você quer baixar\n",
    "        video = yt.streams.filter(progressive=True, file_extension='mp4').order_by('resolution').desc().first()\n",
    "        \n",
    "        # Escolha o diretório onde você quer salvar o vídeo\n",
    "        # Substitua 'caminho_do_diretorio' pelo diretório desejado\n",
    "        video.download('C:/workspace/youtube_downloader/data/lives')\n",
    "    print(\"Download concluído com sucesso!\")\n",
    "elif nome_da_tabela == 'videos':\n",
    "    # Iterar sobre as linhas do DataFrame e inserir os dados no banco de dados\n",
    "    for index, row in table_data.iterrows():\n",
    "        # Cole o link do vídeo que você quer baixar aqui\n",
    "        link = row['link']\n",
    "\n",
    "        # Cria um objeto YouTube com o link fornecido\n",
    "        yt = YouTube(link)\n",
    "\n",
    "        # Escolha o formato e a resolução do vídeo que você quer baixar\n",
    "        video = yt.streams.filter(progressive=True, file_extension='mp4').order_by('resolution').desc().first()\n",
    "        \n",
    "        # Escolha o diretório onde você quer salvar o vídeo\n",
    "        # Substitua 'caminho_do_diretorio' pelo diretório desejado\n",
    "        video.download('C:/workspace/youtube_downloader/data/videos')\n",
    "    print(\"Download concluído com sucesso!\")"
   ]
  },
  {
   "cell_type": "code",
   "execution_count": null,
   "metadata": {},
   "outputs": [],
   "source": []
  }
 ],
 "metadata": {
  "kernelspec": {
   "display_name": "venv",
   "language": "python",
   "name": "python3"
  },
  "language_info": {
   "codemirror_mode": {
    "name": "ipython",
    "version": 3
   },
   "file_extension": ".py",
   "mimetype": "text/x-python",
   "name": "python",
   "nbconvert_exporter": "python",
   "pygments_lexer": "ipython3",
   "version": "3.12.3"
  }
 },
 "nbformat": 4,
 "nbformat_minor": 2
}
