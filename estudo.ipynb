{
 "cells": [
  {
   "cell_type": "code",
   "execution_count": 1,
   "metadata": {},
   "outputs": [
    {
     "name": "stdout",
     "output_type": "stream",
     "text": [
      "Requirement already satisfied: pip in .\\venv\\lib\\site-packages (24.0)\n",
      "Requirement already satisfied: pytube in .\\venv\\lib\\site-packages (15.0.0)\n",
      "Note: you may need to restart the kernel to use updated packages.\n",
      "Requirement already satisfied: python-dotenv in .\\venv\\lib\\site-packages (1.0.1)\n",
      "Note: you may need to restart the kernel to use updated packages.\n",
      "Requirement already satisfied: pandas in .\\venv\\lib\\site-packages (2.2.2)\n",
      "Requirement already satisfied: numpy>=1.26.0 in .\\venv\\lib\\site-packages (from pandas) (1.26.4)\n",
      "Requirement already satisfied: python-dateutil>=2.8.2 in .\\venv\\lib\\site-packages (from pandas) (2.9.0.post0)\n",
      "Requirement already satisfied: pytz>=2020.1 in .\\venv\\lib\\site-packages (from pandas) (2024.1)\n",
      "Requirement already satisfied: tzdata>=2022.7 in .\\venv\\lib\\site-packages (from pandas) (2024.1)\n",
      "Requirement already satisfied: six>=1.5 in .\\venv\\lib\\site-packages (from python-dateutil>=2.8.2->pandas) (1.16.0)\n",
      "Note: you may need to restart the kernel to use updated packages.\n",
      "Requirement already satisfied: openpyxl in .\\venv\\lib\\site-packages (3.1.2)\n",
      "Requirement already satisfied: et-xmlfile in .\\venv\\lib\\site-packages (from openpyxl) (1.1.0)\n",
      "Note: you may need to restart the kernel to use updated packages.\n"
     ]
    }
   ],
   "source": [
    "!python -m pip install --upgrade pip\n",
    "\n",
    "%pip install pytube\n",
    "%pip install python-dotenv\n",
    "%pip install pandas\n",
    "%pip install openpyxl\n",
    "\n",
    "\n",
    "!pip freeze > .\\requirements.txt"
   ]
  },
  {
   "cell_type": "code",
   "execution_count": 2,
   "metadata": {},
   "outputs": [],
   "source": [
    "from pytube import YouTube\n",
    "import pandas as pd"
   ]
  },
  {
   "cell_type": "markdown",
   "metadata": {},
   "source": [
    "ipDatabase = str(os.getenv('ipDatabase'))"
   ]
  },
  {
   "cell_type": "code",
   "execution_count": 3,
   "metadata": {},
   "outputs": [],
   "source": [
    "# Ler o arquivo Excel\n",
    "xlsx_file_path = 'C:/workspace/youtube_downloader/data/download_list.xlsx'\n",
    "\n",
    "nome_da_tabela = \"lives\"\n",
    "#nome_da_tabela = \"videos\"\n",
    "\n",
    "xlsx_sheet_name = nome_da_tabela\n",
    "\n",
    "\n",
    "# Substituir NaN por None\n",
    "table_data = pd.read_excel(xlsx_file_path, xlsx_sheet_name)\n",
    "table_data = table_data.where(pd.notna(table_data), '')"
   ]
  },
  {
   "cell_type": "code",
   "execution_count": 4,
   "metadata": {},
   "outputs": [
    {
     "data": {
      "text/html": [
       "<div>\n",
       "<style scoped>\n",
       "    .dataframe tbody tr th:only-of-type {\n",
       "        vertical-align: middle;\n",
       "    }\n",
       "\n",
       "    .dataframe tbody tr th {\n",
       "        vertical-align: top;\n",
       "    }\n",
       "\n",
       "    .dataframe thead th {\n",
       "        text-align: right;\n",
       "    }\n",
       "</style>\n",
       "<table border=\"1\" class=\"dataframe\">\n",
       "  <thead>\n",
       "    <tr style=\"text-align: right;\">\n",
       "      <th></th>\n",
       "      <th>name</th>\n",
       "      <th>link</th>\n",
       "    </tr>\n",
       "  </thead>\n",
       "  <tbody>\n",
       "  </tbody>\n",
       "</table>\n",
       "</div>"
      ],
      "text/plain": [
       "Empty DataFrame\n",
       "Columns: [name, link]\n",
       "Index: []"
      ]
     },
     "execution_count": 4,
     "metadata": {},
     "output_type": "execute_result"
    }
   ],
   "source": [
    "table_data"
   ]
  },
  {
   "cell_type": "code",
   "execution_count": null,
   "metadata": {},
   "outputs": [],
   "source": [
    "if type == 'lives':\n",
    "    # Iterar sobre as linhas do DataFrame e inserir os dados no banco de dados\n",
    "    for index, row in table_data.iterrows():\n",
    "        query = f\"\"\"\n",
    "\n",
    "            SET IDENTITY_INSERT [dbo].[Site] ON;\n",
    "            \n",
    "            INSERT INTO [dbo].[Site] ([ID], [Name], [Description], [Notes], [AutoEventsEnabled], [ModifiedDateTime], [ModifiedBy],[Deleted])\n",
    "            \n",
    "            VALUES (?, ?, ?, ?, ?, ?, ?, ?);\n",
    "            \n",
    "            SET IDENTITY_INSERT [dbo].[Site] OFF;\n",
    "            \"\"\"\n",
    "        \n",
    "        values = (row['ID'], row['Name'], row['Description'], row['Notes'], '1', formatted_time, user, '0')\n",
    "        \n",
    "        # Atualize as colunas conforme necessário\n",
    "        cursor.execute(query, values)\n",
    "        conn.commit()\n",
    "    # Close the connection\n",
    "    cursor.close()\n",
    "    conn.close()\n",
    "    print(\"Dados inseridos com sucesso no banco de dados Azure SQL.\")\n",
    "elif type == 'videos':\n",
    "    # Iterar sobre as linhas do DataFrame e inserir os dados no banco de dados\n",
    "    for index, row in table_data.iterrows():\n",
    "        query = f\"\"\"\n",
    "\n",
    "            SET IDENTITY_INSERT [dbo].[Factory] ON;\n",
    "            \n",
    "            INSERT INTO [dbo].[Factory] ([ID], [SiteID], [Name], [Description], [Notes], [DisplayOrder], [ModifiedDateTime], [ModifiedBy], [Deleted], [FromUTC])\n",
    "            VALUES (?, ?, ?, ?, ?, ?, ?, ?, ?, ?);\n",
    "            \n",
    "            SET IDENTITY_INSERT [dbo].[Factory] OFF;\n",
    "            \"\"\"\n",
    "        \n",
    "        values = (row['ID'], row['SiteID'], row['Name'], row['Description'], row['Notes'], '0',formatted_time, user, '0', '-3')\n",
    "\n",
    "        # Atualize as colunas conforme necessário\n",
    "        cursor.execute(query, values)\n",
    "        conn.commit()\n",
    "    cursor.close()\n",
    "    conn.close()\n",
    "    print(\"Dados inseridos com sucesso no banco de dados Azure SQL.\")"
   ]
  },
  {
   "cell_type": "code",
   "execution_count": null,
   "metadata": {},
   "outputs": [],
   "source": [
    "\n",
    "# Cole o link do vídeo que você quer baixar aqui\n",
    "link = \"coloque_o_link_do_video_aqui\"\n",
    "\n",
    "# Cria um objeto YouTube com o link fornecido\n",
    "yt = YouTube(link)\n",
    "\n",
    "# Escolha o formato e a resolução do vídeo que você quer baixar\n",
    "video = yt.streams.filter(progressive=True, file_extension='mp4').order_by('resolution').desc().first()\n"
   ]
  },
  {
   "cell_type": "code",
   "execution_count": null,
   "metadata": {},
   "outputs": [],
   "source": [
    "# Escolha o diretório onde você quer salvar o vídeo\n",
    "# Substitua 'caminho_do_diretorio' pelo diretório desejado\n",
    "video.download('caminho_do_diretorio')\n",
    "\n",
    "print(\"Download concluído com sucesso!\")"
   ]
  }
 ],
 "metadata": {
  "kernelspec": {
   "display_name": "venv",
   "language": "python",
   "name": "python3"
  },
  "language_info": {
   "codemirror_mode": {
    "name": "ipython",
    "version": 3
   },
   "file_extension": ".py",
   "mimetype": "text/x-python",
   "name": "python",
   "nbconvert_exporter": "python",
   "pygments_lexer": "ipython3",
   "version": "3.12.3"
  }
 },
 "nbformat": 4,
 "nbformat_minor": 2
}
